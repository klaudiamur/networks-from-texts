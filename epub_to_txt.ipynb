{
 "metadata": {
  "language_info": {
   "codemirror_mode": {
    "name": "ipython",
    "version": 3
   },
   "file_extension": ".py",
   "mimetype": "text/x-python",
   "name": "python",
   "nbconvert_exporter": "python",
   "pygments_lexer": "ipython3",
   "version": "3.7.6-final"
  },
  "orig_nbformat": 2,
  "kernelspec": {
   "name": "python3",
   "display_name": "Python 3",
   "language": "python"
  }
 },
 "nbformat": 4,
 "nbformat_minor": 2,
 "cells": [
  {
   "cell_type": "code",
   "execution_count": 1,
   "metadata": {},
   "outputs": [],
   "source": [
    "import ebooklib\n",
    "from ebooklib import epub\n",
    "from bs4 import BeautifulSoup\n",
    "import os"
   ]
  },
  {
   "cell_type": "code",
   "execution_count": 2,
   "metadata": {},
   "outputs": [],
   "source": [
    "def epub2thtml(epub_path):\n",
    "    book = epub.read_epub(epub_path)\n",
    "    chapters = []\n",
    "    for item in book.get_items():\n",
    "        if item.get_type() == ebooklib.ITEM_DOCUMENT:\n",
    "            chapters.append(item.get_content())\n",
    "    return chapters\n",
    "\n",
    "blacklist = [\n",
    "\t'[document]',\n",
    "\t'noscript',\n",
    "\t'header',\n",
    "\t'html',\n",
    "\t'meta',\n",
    "\t'head', \n",
    "\t'input',\n",
    "\t'script',\n",
    "\t# there may be more elements you don't want, such as \"style\", etc.\n",
    "]\n",
    "\n",
    "def chap2text(chap):\n",
    "    output = ''\n",
    "    soup = BeautifulSoup(chap, 'html.parser')\n",
    "    text = soup.find_all(text=True)\n",
    "    for t in text:\n",
    "        if t.parent.name not in blacklist:\n",
    "            output += '{} '.format(t)\n",
    "    return output\n",
    "\n",
    "def thtml2ttext(thtml):\n",
    "    Output = []\n",
    "    for html in thtml:\n",
    "        text =  chap2text(html)\n",
    "        Output.append(text)\n",
    "    return Output\n",
    "\n",
    "def epub2text(epub_path):\n",
    "    chapters = epub2thtml(epub_path)\n",
    "    ttext = thtml2ttext(chapters)\n",
    "    return ttext\n",
    "\n",
    "def save(text, filename, folder='books'):\n",
    "    if not os.path.exists(folder):\n",
    "        os.mkdir(folder)\n",
    "    with open(folder+'/'+filename+'.txt', 'w', encoding='utf') as f:\n",
    "        f.writelines(text)"
   ]
  },
  {
   "cell_type": "code",
   "execution_count": 3,
   "metadata": {},
   "outputs": [
    {
     "output_type": "error",
     "ename": "XMLSyntaxError",
     "evalue": "Start tag expected, '<' not found, line 1, column 1 (<string>, line 1)",
     "traceback": [
      "Traceback \u001b[0;36m(most recent call last)\u001b[0m:\n",
      "\u001b[0;36m  File \u001b[0;32m\"/Applications/anaconda3/lib/python3.7/site-packages/ebooklib/utils.py\"\u001b[0;36m, line \u001b[0;32m35\u001b[0;36m, in \u001b[0;35mparse_string\u001b[0;36m\u001b[0m\n\u001b[0;31m    tree = etree.parse(io.BytesIO(s.encode('utf-8')))\u001b[0m\n",
      "\u001b[0;31mAttributeError\u001b[0m\u001b[0;31m:\u001b[0m 'bytes' object has no attribute 'encode'\n",
      "\nDuring handling of the above exception, another exception occurred:\n",
      "Traceback \u001b[0;36m(most recent call last)\u001b[0m:\n",
      "  File \u001b[1;32m\"/Applications/anaconda3/lib/python3.7/site-packages/IPython/core/interactiveshell.py\"\u001b[0m, line \u001b[1;32m3418\u001b[0m, in \u001b[1;35mrun_code\u001b[0m\n    exec(code_obj, self.user_global_ns, self.user_ns)\n",
      "  File \u001b[1;32m\"<ipython-input-3-b862338796a9>\"\u001b[0m, line \u001b[1;32m1\u001b[0m, in \u001b[1;35m<module>\u001b[0m\n    out = epub2text('/Users/klaudiamur/Documents/Digital Editions/Environmental Ethics - An Overview for theTwenty-First Century.epub')\n",
      "  File \u001b[1;32m\"<ipython-input-2-7a3d6b183545>\"\u001b[0m, line \u001b[1;32m38\u001b[0m, in \u001b[1;35mepub2text\u001b[0m\n    chapters = epub2thtml(epub_path)\n",
      "  File \u001b[1;32m\"<ipython-input-2-7a3d6b183545>\"\u001b[0m, line \u001b[1;32m2\u001b[0m, in \u001b[1;35mepub2thtml\u001b[0m\n    book = epub.read_epub(epub_path)\n",
      "  File \u001b[1;32m\"/Applications/anaconda3/lib/python3.7/site-packages/ebooklib/epub.py\"\u001b[0m, line \u001b[1;32m1739\u001b[0m, in \u001b[1;35mread_epub\u001b[0m\n    book = reader.load()\n",
      "  File \u001b[1;32m\"/Applications/anaconda3/lib/python3.7/site-packages/ebooklib/epub.py\"\u001b[0m, line \u001b[1;32m1397\u001b[0m, in \u001b[1;35mload\u001b[0m\n    self._load()\n",
      "  File \u001b[1;32m\"/Applications/anaconda3/lib/python3.7/site-packages/ebooklib/epub.py\"\u001b[0m, line \u001b[1;32m1694\u001b[0m, in \u001b[1;35m_load\u001b[0m\n    self._load_opf_file()\n",
      "  File \u001b[1;32m\"/Applications/anaconda3/lib/python3.7/site-packages/ebooklib/epub.py\"\u001b[0m, line \u001b[1;32m1665\u001b[0m, in \u001b[1;35m_load_opf_file\u001b[0m\n    self._load_spine()\n",
      "  File \u001b[1;32m\"/Applications/anaconda3/lib/python3.7/site-packages/ebooklib/epub.py\"\u001b[0m, line \u001b[1;32m1648\u001b[0m, in \u001b[1;35m_load_spine\u001b[0m\n    self._parse_ncx(ncxFile)\n",
      "  File \u001b[1;32m\"/Applications/anaconda3/lib/python3.7/site-packages/ebooklib/epub.py\"\u001b[0m, line \u001b[1;32m1547\u001b[0m, in \u001b[1;35m_parse_ncx\u001b[0m\n    tree = parse_string(data)\n",
      "  File \u001b[1;32m\"/Applications/anaconda3/lib/python3.7/site-packages/ebooklib/utils.py\"\u001b[0m, line \u001b[1;32m37\u001b[0m, in \u001b[1;35mparse_string\u001b[0m\n    tree = etree.parse(io.BytesIO(s))\n",
      "  File \u001b[1;32m\"src/lxml/etree.pyx\"\u001b[0m, line \u001b[1;32m3521\u001b[0m, in \u001b[1;35mlxml.etree.parse\u001b[0m\n",
      "  File \u001b[1;32m\"src/lxml/parser.pxi\"\u001b[0m, line \u001b[1;32m1876\u001b[0m, in \u001b[1;35mlxml.etree._parseDocument\u001b[0m\n",
      "  File \u001b[1;32m\"src/lxml/parser.pxi\"\u001b[0m, line \u001b[1;32m1896\u001b[0m, in \u001b[1;35mlxml.etree._parseMemoryDocument\u001b[0m\n",
      "  File \u001b[1;32m\"src/lxml/parser.pxi\"\u001b[0m, line \u001b[1;32m1784\u001b[0m, in \u001b[1;35mlxml.etree._parseDoc\u001b[0m\n",
      "  File \u001b[1;32m\"src/lxml/parser.pxi\"\u001b[0m, line \u001b[1;32m1141\u001b[0m, in \u001b[1;35mlxml.etree._BaseParser._parseDoc\u001b[0m\n",
      "  File \u001b[1;32m\"src/lxml/parser.pxi\"\u001b[0m, line \u001b[1;32m615\u001b[0m, in \u001b[1;35mlxml.etree._ParserContext._handleParseResultDoc\u001b[0m\n",
      "  File \u001b[1;32m\"src/lxml/parser.pxi\"\u001b[0m, line \u001b[1;32m725\u001b[0m, in \u001b[1;35mlxml.etree._handleParseResult\u001b[0m\n",
      "\u001b[0;36m  File \u001b[0;32m\"src/lxml/parser.pxi\"\u001b[0;36m, line \u001b[0;32m654\u001b[0;36m, in \u001b[0;35mlxml.etree._raiseParseError\u001b[0;36m\u001b[0m\n",
      "\u001b[0;36m  File \u001b[0;32m\"<string>\"\u001b[0;36m, line \u001b[0;32m1\u001b[0m\n\u001b[0;31mXMLSyntaxError\u001b[0m\u001b[0;31m:\u001b[0m Start tag expected, '<' not found, line 1, column 1\n"
     ]
    }
   ],
   "source": [
    "out = epub2text('/Users/klaudiamur/Documents/Digital Editions/Environmental Ethics - An Overview for theTwenty-First Century.epub')"
   ]
  },
  {
   "cell_type": "code",
   "execution_count": 4,
   "metadata": {},
   "outputs": [],
   "source": [
    "folder = 'books'\n",
    "book_name = 'War and Peace'\n",
    "\n",
    "save(out, book_name, folder)\n"
   ]
  },
  {
   "cell_type": "code",
   "execution_count": null,
   "metadata": {},
   "outputs": [],
   "source": []
  }
 ]
}